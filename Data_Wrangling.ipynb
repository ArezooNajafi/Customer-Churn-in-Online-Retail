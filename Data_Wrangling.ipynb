{
  "nbformat": 4,
  "nbformat_minor": 0,
  "metadata": {
    "colab": {
      "private_outputs": true,
      "provenance": [],
      "authorship_tag": "ABX9TyOrR8PtPHLbQP7+I/E+dN4L",
      "include_colab_link": true
    },
    "kernelspec": {
      "name": "python3",
      "display_name": "Python 3"
    },
    "language_info": {
      "name": "python"
    }
  },
  "cells": [
    {
      "cell_type": "markdown",
      "metadata": {
        "id": "view-in-github",
        "colab_type": "text"
      },
      "source": [
        "<a href=\"https://colab.research.google.com/github/ArezooNajafi/Customer-Churn-in-Online-Retail/blob/main/Churn_rate_Data_Wrangling.ipynb\" target=\"_parent\"><img src=\"https://colab.research.google.com/assets/colab-badge.svg\" alt=\"Open In Colab\"/></a>"
      ]
    },
    {
      "cell_type": "code",
      "source": [
        "!pip install pandas"
      ],
      "metadata": {
        "id": "OMRPBWIHGucp"
      },
      "execution_count": null,
      "outputs": []
    },
    {
      "cell_type": "code",
      "source": [
        "import kagglehub\n",
        "\n",
        "# Download latest version\n",
        "path = kagglehub.dataset_download(\"hassaneskikri/online-retail-customer-churn-dataset\")\n",
        "\n",
        "print(\"Path to dataset files:\", path)"
      ],
      "metadata": {
        "id": "LdNQfrnaI3aF"
      },
      "execution_count": null,
      "outputs": []
    },
    {
      "cell_type": "code",
      "source": [
        "import os\n",
        "\n",
        "# List all files inside the downloaded dataset folder\n",
        "files = os.listdir(path)\n",
        "print(files)\n"
      ],
      "metadata": {
        "id": "Zsu9RycfI4oG"
      },
      "execution_count": null,
      "outputs": []
    },
    {
      "cell_type": "code",
      "source": [
        "import pandas as pd\n",
        "\n",
        "# Full path to the CSV file\n",
        "csv_file_path = os.path.join(path, \"online_retail_customer_churn.csv\")\n",
        "\n",
        "# Read it into a DataFrame\n",
        "df = pd.read_csv(csv_file_path)\n",
        "\n",
        "# Show first 5 rows\n",
        "df.head()"
      ],
      "metadata": {
        "id": "T2PKNrooI7A0"
      },
      "execution_count": null,
      "outputs": []
    },
    {
      "cell_type": "code",
      "source": [
        "df.info()"
      ],
      "metadata": {
        "id": "KkFMlRxrNpLu"
      },
      "execution_count": null,
      "outputs": []
    },
    {
      "cell_type": "code",
      "source": [
        "duplicates = df.duplicated()\n",
        "print(f\"Number of duplicate rows: {duplicates.sum()}\")\n",
        "\n",
        "# If duplicates exist:\n",
        "df = df.drop_duplicates()\n"
      ],
      "metadata": {
        "id": "EjxiIq4ROMgb"
      },
      "execution_count": null,
      "outputs": []
    },
    {
      "cell_type": "code",
      "source": [
        "df.describe(include='all') # Use include='all' to include all columns"
      ],
      "metadata": {
        "id": "4kdFNMyROjXe"
      },
      "execution_count": null,
      "outputs": []
    },
    {
      "cell_type": "code",
      "source": [
        "import matplotlib.pyplot as plt\n",
        "import seaborn as sns\n",
        "import math\n",
        "\n",
        "# Select numeric columns\n",
        "numeric_cols = df.select_dtypes(include=['int64', 'float64']).columns\n",
        "\n",
        "# Set up subplot grid size\n",
        "n_cols = 3  # 3 plots per row\n",
        "n_rows = math.ceil(len(numeric_cols) / n_cols)\n",
        "\n",
        "# Set figure size\n",
        "plt.figure(figsize=(n_cols * 5, n_rows * 4))\n",
        "\n",
        "# Loop through each column and create a subplot\n",
        "for idx, col in enumerate(numeric_cols):\n",
        "    plt.subplot(n_rows, n_cols, idx + 1)\n",
        "    sns.histplot(df[col], kde=True, bins=30, color='skyblue')\n",
        "    plt.title(f'{col}', fontsize=10)\n",
        "    plt.xlabel('')\n",
        "    plt.ylabel('')\n",
        "\n",
        "plt.tight_layout()\n",
        "plt.show()\n"
      ],
      "metadata": {
        "id": "qlB-rvAAggUu"
      },
      "execution_count": null,
      "outputs": []
    },
    {
      "cell_type": "code",
      "source": [
        "numeric_cols = df.select_dtypes(include=['int64', 'float64']).columns\n",
        "\n",
        "# Set up subplot grid size\n",
        "n_cols = 3  # 3 plots per row\n",
        "n_rows = math.ceil(len(numeric_cols) / n_cols)\n",
        "\n",
        "# Set figure size\n",
        "plt.figure(figsize=(n_cols * 5, n_rows * 4))\n",
        "\n",
        "# Loop through each column and create a boxplot\n",
        "for idx, col in enumerate(numeric_cols):\n",
        "    plt.subplot(n_rows, n_cols, idx + 1)\n",
        "    sns.boxplot(y=df[col], color='lightcoral')\n",
        "    plt.title(f'{col}', fontsize=10)\n",
        "    plt.xlabel('')\n",
        "    plt.ylabel('')\n",
        "\n",
        "plt.tight_layout()\n",
        "plt.show()"
      ],
      "metadata": {
        "id": "zXtQP2zwi0iV"
      },
      "execution_count": null,
      "outputs": []
    },
    {
      "cell_type": "code",
      "source": [
        "def detect_outliers_iqr(data, column):\n",
        "    Q1 = data[column].quantile(0.25)\n",
        "    Q3 = data[column].quantile(0.75)\n",
        "    IQR = Q3 - Q1\n",
        "    lower_bound = Q1 - 1.5 * IQR\n",
        "    upper_bound = Q3 + 1.5 * IQR\n",
        "\n",
        "    outliers = data[(data[column] < lower_bound) | (data[column] > upper_bound)]\n",
        "    return outliers\n",
        "\n",
        "# Now, apply it to all numeric columns\n",
        "numeric_cols = df.select_dtypes(include=['int64', 'float64']).columns\n",
        "\n",
        "# Create a summary\n",
        "outlier_summary = {}\n",
        "\n",
        "for col in numeric_cols:\n",
        "    outliers = detect_outliers_iqr(df, col)\n",
        "    outlier_summary[col] = len(outliers)\n",
        "\n",
        "# Print nicely\n",
        "for col, n_outliers in outlier_summary.items():\n",
        "    print(f\"{col}: {n_outliers} outliers\")\n"
      ],
      "metadata": {
        "id": "XWVpnDjGjpdJ"
      },
      "execution_count": null,
      "outputs": []
    },
    {
      "cell_type": "code",
      "source": [
        "data=df.drop(['Customer_ID'], axis=1)\n"
      ],
      "metadata": {
        "id": "qrCvK_dESFY3"
      },
      "execution_count": null,
      "outputs": []
    },
    {
      "cell_type": "code",
      "source": [
        "# Step 2: Create full dummies for Gender and Promotion_Response (no drop)\n",
        "data = pd.get_dummies(data, columns=['Gender', 'Promotion_Response'], drop_first=False).astype(int)\n",
        "\n",
        "# Step 3: Convert Email_Opt_In from bool to int (True/False → 1/0)\n",
        "data['Email_Opt_In'] = data['Email_Opt_In'].astype(int)"
      ],
      "metadata": {
        "id": "1SebrC3NGJuC"
      },
      "execution_count": null,
      "outputs": []
    },
    {
      "cell_type": "code",
      "source": [
        "data.head()"
      ],
      "metadata": {
        "id": "4jDCAKwKCJEa"
      },
      "execution_count": null,
      "outputs": []
    }
  ]
}
