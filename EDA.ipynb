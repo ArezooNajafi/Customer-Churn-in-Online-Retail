{
  "nbformat": 4,
  "nbformat_minor": 0,
  "metadata": {
    "colab": {
      "private_outputs": true,
      "provenance": [],
      "authorship_tag": "ABX9TyPzWTRO09B37s8EiBdQ2fyd",
      "include_colab_link": true
    },
    "kernelspec": {
      "name": "python3",
      "display_name": "Python 3"
    },
    "language_info": {
      "name": "python"
    }
  },
  "cells": [
    {
      "cell_type": "markdown",
      "metadata": {
        "id": "view-in-github",
        "colab_type": "text"
      },
      "source": [
        "<a href=\"https://colab.research.google.com/github/ArezooNajafi/Customer-Churn-in-Online-Retail/blob/main/EDA.ipynb\" target=\"_parent\"><img src=\"https://colab.research.google.com/assets/colab-badge.svg\" alt=\"Open In Colab\"/></a>"
      ]
    },
    {
      "cell_type": "code",
      "source": [
        "!pip install pandas"
      ],
      "metadata": {
        "id": "OMRPBWIHGucp"
      },
      "execution_count": null,
      "outputs": []
    },
    {
      "cell_type": "code",
      "source": [
        "import kagglehub\n",
        "\n",
        "# Download latest version\n",
        "path = kagglehub.dataset_download(\"hassaneskikri/online-retail-customer-churn-dataset\")\n",
        "\n",
        "print(\"Path to dataset files:\", path)"
      ],
      "metadata": {
        "id": "LdNQfrnaI3aF"
      },
      "execution_count": null,
      "outputs": []
    },
    {
      "cell_type": "code",
      "source": [
        "import os\n",
        "\n",
        "# List all files inside the downloaded dataset folder\n",
        "files = os.listdir(path)\n",
        "print(files)\n"
      ],
      "metadata": {
        "id": "Zsu9RycfI4oG"
      },
      "execution_count": null,
      "outputs": []
    },
    {
      "cell_type": "code",
      "source": [
        "import pandas as pd\n",
        "\n",
        "# Full path to the CSV file\n",
        "csv_file_path = os.path.join(path, \"online_retail_customer_churn.csv\")\n",
        "\n",
        "# Read it into a DataFrame\n",
        "df = pd.read_csv(csv_file_path)\n",
        "\n",
        "# Show first 5 rows\n",
        "df.head()"
      ],
      "metadata": {
        "id": "T2PKNrooI7A0"
      },
      "execution_count": null,
      "outputs": []
    },
    {
      "cell_type": "code",
      "source": [
        "df.info()"
      ],
      "metadata": {
        "id": "KkFMlRxrNpLu"
      },
      "execution_count": null,
      "outputs": []
    },
    {
      "cell_type": "code",
      "source": [
        "df.describe(include='all') # Use include='all' to include all columns"
      ],
      "metadata": {
        "id": "4kdFNMyROjXe"
      },
      "execution_count": null,
      "outputs": []
    },
    {
      "cell_type": "code",
      "source": [
        "df['APV'] = df['Total_Spend'] / df['Num_of_Purchases']\n",
        "df['Purchase_Frequency'] = df['Num_of_Purchases'] / df['Years_as_Customer']\n",
        "df['CLV'] = df['APV'] * df['Purchase_Frequency'] * df['Years_as_Customer']"
      ],
      "metadata": {
        "id": "g1F_Vqo27ftM"
      },
      "execution_count": null,
      "outputs": []
    },
    {
      "cell_type": "code",
      "source": [
        "import matplotlib.pyplot as plt\n",
        "import seaborn as sns\n",
        "import math\n",
        "\n"
      ],
      "metadata": {
        "id": "qlB-rvAAggUu"
      },
      "execution_count": null,
      "outputs": []
    },
    {
      "cell_type": "code",
      "source": [
        "# Replace churn values with True/False\n",
        "df['Target_Churn'] = df['Target_Churn'].replace({1: True, 0: False})\n",
        "\n",
        "# Define colors: red for churn, green for not churn\n",
        "colors = ['red', 'green']\n",
        "\n",
        "# Plot the pie chart\n",
        "plt.pie(\n",
        "    df['Target_Churn'].value_counts(),\n",
        "    labels=['Churn', 'Not Churn'],\n",
        "    autopct='%1.1f%%',\n",
        "    colors=colors\n",
        ")\n",
        "plt.title('Churn Distribution')\n",
        "plt.show()\n"
      ],
      "metadata": {
        "id": "XWmtpTst-jl3"
      },
      "execution_count": null,
      "outputs": []
    },
    {
      "cell_type": "code",
      "source": [
        "plt.pie(df['Gender'].value_counts(), labels=df['Gender'].unique(), autopct='%1.1f%%')\n",
        "plt.title('Gender Distribution')\n",
        "plt.show()"
      ],
      "metadata": {
        "id": "WNkj9XGm6xXK"
      },
      "execution_count": null,
      "outputs": []
    },
    {
      "cell_type": "code",
      "source": [
        "plt.pie(df['Promotion_Response'].value_counts(), labels=df['Promotion_Response'].unique(), autopct='%1.1f%%')\n",
        "plt.title('Promotion Response Distribution')\n",
        "plt.show()"
      ],
      "metadata": {
        "id": "1pVmRuel7DwZ"
      },
      "execution_count": null,
      "outputs": []
    },
    {
      "cell_type": "code",
      "source": [
        "plt.figure(figsize=(12, 6))\n",
        "sns.set(style=\"whitegrid\")\n",
        "\n",
        "# Improved histogram\n",
        "sns.histplot(df['Age'],\n",
        "             bins=range(10, 85, 5),\n",
        "             kde=True,\n",
        "             color=sns.color_palette(\"coolwarm\", 8)[3],\n",
        "             edgecolor='black',\n",
        "             alpha=0.8)\n",
        "\n",
        "plt.title('Customer Age Distribution', fontsize=16, fontweight='bold')\n",
        "plt.xlabel('Age', fontsize=12)\n",
        "plt.ylabel('Customer Count', fontsize=12)\n",
        "plt.xticks(range(10, 85, 5))\n",
        "plt.grid(axis='y', linestyle='--', linewidth=0.7, alpha=0.6)\n",
        "plt.tight_layout()\n",
        "plt.show()"
      ],
      "metadata": {
        "id": "yVcBNUVPAx-9"
      },
      "execution_count": null,
      "outputs": []
    },
    {
      "cell_type": "code",
      "source": [
        "# Seaborn theme\n",
        "sns.set_theme(style=\"whitegrid\")\n",
        "\n",
        "# Define 5-year age bins\n",
        "bins_5 = range(10, 81, 5)\n",
        "labels_5 = [f\"{i}-{i+4}\" for i in bins_5[:-1]]\n",
        "df['Age_Group_5'] = pd.cut(df['Age'], bins=bins_5, labels=labels_5, right=False)\n",
        "\n",
        "# Group data (preserve age order)\n",
        "age_group_data = df.groupby('Age_Group_5', observed=False)['Total_Spend'].sum().reset_index()\n",
        "\n",
        "# Create ordered categorical type to preserve label order\n",
        "age_group_data['Age_Group_5'] = pd.Categorical(\n",
        "    age_group_data['Age_Group_5'], categories=labels_5, ordered=True\n",
        ")\n",
        "\n",
        "# Sort by age group order (not value)\n",
        "age_group_data = age_group_data.sort_values('Age_Group_5')\n",
        "\n",
        "# Plot\n",
        "plt.figure(figsize=(12, 6))\n",
        "barplot = sns.barplot(\n",
        "    data=age_group_data,\n",
        "    x='Age_Group_5',\n",
        "    y='Total_Spend',\n",
        "    palette='mako'\n",
        ")\n",
        "\n",
        "# Add value labels\n",
        "for index, row in age_group_data.iterrows():\n",
        "    barplot.text(index, row.Total_Spend + 100, f\"${row.Total_Spend:,.0f}\",\n",
        "                 ha='center', fontsize=10, weight='bold')\n",
        "\n",
        "# Formatting\n",
        "plt.title(\"Total Spend by Age Groups\", fontsize=16, weight='bold')\n",
        "plt.xlabel(\"Age Group\", fontsize=12)\n",
        "plt.ylabel(\"Total Spend ($)\", fontsize=12)\n",
        "plt.xticks(rotation=45)\n",
        "plt.tight_layout()\n",
        "plt.show()"
      ],
      "metadata": {
        "id": "crm81Q4-x_Eo"
      },
      "execution_count": null,
      "outputs": []
    },
    {
      "cell_type": "code",
      "source": [
        "\n",
        "\n",
        "# Group by both Age Group and Gender\n",
        "age_gender_group_data = df.groupby(['Age_Group_5', 'Gender'], observed=False)['Total_Spend'].sum().reset_index()\n",
        "\n",
        "# Create ordered categorical type to preserve label order\n",
        "age_gender_group_data['Age_Group_5'] = pd.Categorical(\n",
        "    age_gender_group_data['Age_Group_5'], categories=labels_5, ordered=True\n",
        ")\n",
        "\n",
        "# Sort by age group order (not value)\n",
        "age_gender_group_data = age_gender_group_data.sort_values('Age_Group_5')\n",
        "\n",
        "# Plot\n",
        "plt.figure(figsize=(12, 6))\n",
        "barplot = sns.barplot(\n",
        "    data=age_gender_group_data,\n",
        "    x='Age_Group_5',\n",
        "    y='Total_Spend',\n",
        "    hue='Gender',  # Differentiate by gender\n",
        "    palette='mako'\n",
        ")\n",
        "\n",
        "\n",
        "# Formatting\n",
        "plt.title(\"Total Spend by Age Groups with Gender Labels\", fontsize=16, weight='bold')\n",
        "plt.xlabel(\"Age Group\", fontsize=12)\n",
        "plt.ylabel(\"Total Spend ($)\", fontsize=12)\n",
        "plt.xticks(rotation=45)\n",
        "plt.tight_layout()\n",
        "plt.show()"
      ],
      "metadata": {
        "id": "sSdCGz2g63CP"
      },
      "execution_count": null,
      "outputs": []
    },
    {
      "cell_type": "code",
      "source": [
        "# Set better visual theme\n",
        "sns.set_theme(style=\"whitegrid\")\n",
        "\n",
        "# Group data by Gender\n",
        "gender_spend = df.groupby('Gender', observed=False)['Total_Spend'].sum().reset_index()\n",
        "\n",
        "# Sort genders by total spend (optional)\n",
        "gender_spend = gender_spend.sort_values('Total_Spend', ascending=False)\n",
        "\n",
        "# Use a more appealing palette (e.g., \"Set2\", \"colorblind\", or custom)\n",
        "custom_colors = [\"#5E60CE\", \"#5390D9\", \"#4EA8DE\"]  # Purple-blue gradient\n",
        "\n",
        "# Create the plot\n",
        "plt.figure(figsize=(8, 6))\n",
        "barplot = sns.barplot(\n",
        "    data=gender_spend,\n",
        "    x='Gender',\n",
        "    y='Total_Spend',\n",
        "    palette=custom_colors\n",
        ")\n",
        "\n",
        "# Add labels on top of bars\n",
        "for index, row in gender_spend.iterrows():\n",
        "    barplot.text(index, row.Total_Spend + 50000, f\"${row.Total_Spend:,.0f}\",\n",
        "                 ha='center', fontsize=10, weight='bold')\n",
        "\n",
        "# Formatting\n",
        "plt.title(\"Total Spend by Gender\", fontsize=16, weight='bold')\n",
        "plt.xlabel(\"Gender\", fontsize=12)\n",
        "plt.ylabel(\"Total Spend ($)\", fontsize=12)\n",
        "plt.tight_layout()\n",
        "plt.show()"
      ],
      "metadata": {
        "id": "9LZQanU-z0dQ"
      },
      "execution_count": null,
      "outputs": []
    },
    {
      "cell_type": "code",
      "source": [
        "df['Return_Rate'] = df['Num_of_Returns'] / (df['Num_of_Purchases'] + 1e-5)\n",
        "\n",
        "plt.figure(figsize=(7, 5))\n",
        "sns.barplot(x='Gender', y='Return_Rate', data=df, ci=None, palette='pastel')\n",
        "plt.title('Average Return Rate by Gender')\n",
        "plt.ylabel('Return Rate')\n",
        "plt.show()"
      ],
      "metadata": {
        "id": "7mHBDj8fhMfd"
      },
      "execution_count": null,
      "outputs": []
    },
    {
      "cell_type": "code",
      "source": [
        "plt.figure(figsize=(12, 6))\n",
        "sns.set(style=\"whitegrid\")\n",
        "\n",
        "# Histogram + KDE with custom palette\n",
        "sns.histplot(df['Annual_Income'],\n",
        "             bins=range(20, 220, 20),\n",
        "             kde=True,\n",
        "             color=sns.color_palette(\"viridis\", as_cmap=True)(0.6),\n",
        "             edgecolor='black')\n",
        "\n",
        "plt.title('Annual Income Distribution', fontsize=16)\n",
        "plt.xlabel('Annual Income ($K)', fontsize=12)\n",
        "plt.ylabel('Customer Count', fontsize=12)\n",
        "plt.xticks(range(20, 220, 20))\n",
        "plt.grid(axis='y', linestyle='--', alpha=0.7)\n",
        "plt.tight_layout()\n",
        "plt.show()"
      ],
      "metadata": {
        "id": "Xcd1HttG-7tb"
      },
      "execution_count": null,
      "outputs": []
    },
    {
      "cell_type": "code",
      "source": [
        "\n",
        "\n",
        "# Group by both Age Group and Gender\n",
        "age_gender_group_data = df.groupby(['Age_Group_5', 'Gender'], observed=False)['Purchase_Frequency'].mean().reset_index()\n",
        "\n",
        "# Create ordered categorical type to preserve label order\n",
        "age_gender_group_data['Age_Group_5'] = pd.Categorical(\n",
        "    age_gender_group_data['Age_Group_5'], categories=labels_5, ordered=True\n",
        ")\n",
        "\n",
        "sns.set_theme(style=\"white\")\n",
        "\n",
        "# Sort by age group order (not value)\n",
        "age_gender_group_data = age_gender_group_data.sort_values('Age_Group_5')\n",
        "\n",
        "# Plot\n",
        "plt.figure(figsize=(12, 6))\n",
        "barplot = sns.barplot(\n",
        "    data=age_gender_group_data,\n",
        "    x='Age_Group_5',\n",
        "    y='Purchase_Frequency',\n",
        "    hue='Gender',  # Differentiate by gender\n",
        "    palette='mako'\n",
        ")\n",
        "\n",
        "\n",
        "# Formatting\n",
        "plt.title(\"Avg. Purchases per Year (Loyalty) Age Groups with Gender Labels\", fontsize=16, weight='bold')\n",
        "plt.xlabel(\"Age Group\", fontsize=12)\n",
        "plt.ylabel(\"Total Spend ($)\", fontsize=12)\n",
        "plt.xticks(rotation=45)\n",
        "plt.tight_layout()\n",
        "plt.show()"
      ],
      "metadata": {
        "id": "ivk5L0cg-Vtx"
      },
      "execution_count": null,
      "outputs": []
    },
    {
      "cell_type": "code",
      "source": [
        "# Assuming df is your DataFrame with 'Age_Group_5', 'Years_as_Customer', and 'Gender'\n",
        "\n",
        "# Set up subplot grid size\n",
        "fig, axes = plt.subplots(1, 2, figsize=(16, 6))  # 1 row, 2 columns\n",
        "\n",
        "# Plot 1: Average Years as Customer by Age Group\n",
        "sns.set(style=\"whitegrid\")\n",
        "ax1 = sns.barplot(x='Age_Group_5', y='Years_as_Customer', data=df, estimator='mean', ci=None, palette='Blues', ax=axes[0])\n",
        "\n",
        "# Add title and labels for Age Group plot\n",
        "axes[0].set_title('Average Years as Customer by Age Group', fontsize=14, fontweight='bold')\n",
        "axes[0].set_xlabel('Age Group', fontsize=12)\n",
        "axes[0].set_ylabel('Average Years as Customer', fontsize=12)\n",
        "axes[0].tick_params(axis='x', rotation=45)  # Rotate x-axis labels for readability\n",
        "\n",
        "# Add data labels to bars\n",
        "for p in ax1.patches:\n",
        "    ax1.annotate(f'{p.get_height():.2f}',\n",
        "                 (p.get_x() + p.get_width() / 2., p.get_height()),\n",
        "                 ha='center', va='center',\n",
        "                 fontsize=12, color='black',\n",
        "                 xytext=(0, 5), textcoords='offset points')\n",
        "\n",
        "# Plot 2: Average Years as Customer by Gender\n",
        "ax2 = sns.barplot(x='Gender', y='Years_as_Customer', data=df, estimator='mean', ci=None, palette='coolwarm', ax=axes[1])\n",
        "\n",
        "# Add title and labels for Gender plot\n",
        "axes[1].set_title('Average Years as Customer by Gender', fontsize=14, fontweight='bold')\n",
        "axes[1].set_xlabel('Gender', fontsize=12)\n",
        "axes[1].set_ylabel('Average Years as Customer', fontsize=12)\n",
        "\n",
        "# Add data labels to bars\n",
        "for p in ax2.patches:\n",
        "    ax2.annotate(f'{p.get_height():.2f}',\n",
        "                 (p.get_x() + p.get_width() / 2., p.get_height()),\n",
        "                 ha='center', va='center',\n",
        "                 fontsize=12, color='black',\n",
        "                 xytext=(0, 5), textcoords='offset points')\n",
        "\n",
        "# Adjust layout for better spacing\n",
        "plt.tight_layout()\n",
        "\n",
        "# Show plot\n",
        "plt.show()"
      ],
      "metadata": {
        "id": "oAlsTRqLoSXd"
      },
      "execution_count": null,
      "outputs": []
    },
    {
      "cell_type": "code",
      "source": [
        "# Ensure Return_Rate and Age_Group_5 exist\n",
        "df['Return_Rate'] = df['Num_of_Returns'] / (df['Num_of_Purchases'] + 1e-5)\n",
        "\n",
        "# Set up the plotting grid\n",
        "fig, axes = plt.subplots(1, 2, figsize=(16, 6))\n",
        "sns.set(style=\"whitegrid\")\n",
        "\n",
        "# Plot 1: Return Rate by Age Group with a bright color palette\n",
        "ax1 = sns.barplot(x='Age_Group_5', y='Return_Rate', data=df,\n",
        "                  estimator='mean', ci=None,\n",
        "                  palette=sns.color_palette(\"crest\", as_cmap=False), ax=axes[0])\n",
        "\n",
        "axes[0].set_title('Average Return Rate by Age Group', fontsize=14, fontweight='bold')\n",
        "axes[0].set_xlabel('Age Group', fontsize=12)\n",
        "axes[0].set_ylabel('Avg Return Rate', fontsize=12)\n",
        "axes[0].tick_params(axis='x', rotation=45)\n",
        "\n",
        "# Add labels\n",
        "for p in ax1.patches:\n",
        "    ax1.annotate(f'{p.get_height():.2f}',\n",
        "                 (p.get_x() + p.get_width() / 2., p.get_height()),\n",
        "                 ha='center', va='bottom',\n",
        "                 fontsize=11, color='black',\n",
        "                 xytext=(0, 5), textcoords='offset points')\n",
        "\n",
        "# Plot 2: Return Rate by Gender with a contrasting, vivid palette\n",
        "ax2 = sns.barplot(x='Gender', y='Return_Rate', data=df,\n",
        "                  estimator='mean', ci=None,\n",
        "                  palette=sns.color_palette(\"flare\", as_cmap=False), ax=axes[1])\n",
        "\n",
        "axes[1].set_title('Average Return Rate by Gender', fontsize=14, fontweight='bold')\n",
        "axes[1].set_xlabel('Gender', fontsize=12)\n",
        "axes[1].set_ylabel('Avg Return Rate', fontsize=12)\n",
        "\n",
        "# Add labels\n",
        "for p in ax2.patches:\n",
        "    ax2.annotate(f'{p.get_height():.2f}',\n",
        "                 (p.get_x() + p.get_width() / 2., p.get_height()),\n",
        "                 ha='center', va='bottom',\n",
        "                 fontsize=11, color='black',\n",
        "                 xytext=(0, 5), textcoords='offset points')\n",
        "\n",
        "# Final layout tweaks\n",
        "plt.tight_layout()\n",
        "plt.show()\n"
      ],
      "metadata": {
        "id": "mJjIqsHRcYKf"
      },
      "execution_count": null,
      "outputs": []
    },
    {
      "cell_type": "code",
      "source": [
        "# Group and calculate total returns and purchases\n",
        "grouped = df.groupby(['Age_Group_5', 'Gender'], observed=False).agg({\n",
        "    'Num_of_Returns': 'sum',\n",
        "    'Num_of_Purchases': 'sum'\n",
        "}).reset_index()\n",
        "\n",
        "# Calculate return rate safely\n",
        "grouped['Return_Rate'] = grouped['Num_of_Returns'] / (grouped['Num_of_Purchases'] + 1e-5)\n",
        "\n",
        "# Ensure consistent age group ordering if labels_5 exists\n",
        "if 'labels_5' in locals():\n",
        "    grouped['Age_Group_5'] = pd.Categorical(grouped['Age_Group_5'], categories=labels_5, ordered=True)\n",
        "\n",
        "# Sort for better visualization\n",
        "grouped = grouped.sort_values('Age_Group_5')\n",
        "\n",
        "# Plot\n",
        "plt.figure(figsize=(12, 6))\n",
        "sns.set_theme(style=\"whitegrid\")\n",
        "ax = sns.barplot(\n",
        "    data=grouped,\n",
        "    x='Age_Group_5',\n",
        "    y='Return_Rate',\n",
        "    hue='Gender',\n",
        "    palette='viridis'\n",
        ")\n",
        "\n",
        "# Formatting\n",
        "plt.title(\"Return Rate by Age Group and Gender\", fontsize=16, weight='bold')\n",
        "plt.xlabel(\"Age Group\", fontsize=12)\n",
        "plt.ylabel(\"Return Rate\", fontsize=12)\n",
        "plt.xticks(rotation=45)\n",
        "plt.tight_layout()\n",
        "plt.show()"
      ],
      "metadata": {
        "id": "yfS1hsEBdngA"
      },
      "execution_count": null,
      "outputs": []
    },
    {
      "cell_type": "code",
      "source": [
        "# Plot count of promotion response by Age Group\n",
        "plt.figure(figsize=(10, 6))\n",
        "sns.set_theme(style=\"whitegrid\")\n",
        "\n",
        "ax = sns.countplot(data=df, x='Age_Group_5', hue='Promotion_Response', palette='pastel')\n",
        "\n",
        "plt.title('Promotion Response Counts by Age Group', fontsize=16, fontweight='bold')\n",
        "plt.xlabel('Age Group', fontsize=12)\n",
        "plt.ylabel('Count', fontsize=12)\n",
        "\n",
        "plt.tight_layout()\n",
        "plt.show()"
      ],
      "metadata": {
        "id": "00rkO1tWgkFe"
      },
      "execution_count": null,
      "outputs": []
    },
    {
      "cell_type": "code",
      "source": [
        "plt.figure(figsize=(8, 6))\n",
        "sns.set_theme(style=\"whitegrid\")\n",
        "\n",
        "ax2 = sns.countplot(data=df, x='Gender', hue='Promotion_Response', palette='muted')\n",
        "\n",
        "plt.title('Promotion Response Counts by Gender', fontsize=16, fontweight='bold')\n",
        "plt.xlabel('Gender', fontsize=12)\n",
        "plt.ylabel('Count', fontsize=12)\n",
        "\n",
        "# Add data labels on bars\n",
        "for p in ax2.patches:\n",
        "    height = p.get_height()\n",
        "    ax2.annotate(f'{height}', (p.get_x() + p.get_width() / 2., height),\n",
        "                 ha='center', va='bottom', fontsize=11, xytext=(0, 3), textcoords='offset points')\n",
        "\n",
        "plt.tight_layout()\n",
        "plt.show()"
      ],
      "metadata": {
        "id": "_O9F027nhDne"
      },
      "execution_count": null,
      "outputs": []
    },
    {
      "cell_type": "code",
      "source": [
        "# Example DataFrame: df with 'Num_of_Returns' and 'Target_Churn'\n",
        "\n",
        "# Step 1: Create bins for number of returns\n",
        "max_returns = df['Num_of_Returns'].max()\n",
        "bins = [-1, 0, 2, max_returns]  # -1 so 0 is included in first bin\n",
        "labels = ['0 Returns', '1-2 Returns', f'3+ Returns']\n",
        "\n",
        "df['Returns_Bin'] = pd.cut(df['Num_of_Returns'], bins=bins, labels=labels)\n",
        "\n",
        "# Step 2: Calculate churn rate by returns bin\n",
        "churn_by_returns_bin = df.groupby('Returns_Bin')['Target_Churn'].mean().reset_index()\n",
        "churn_by_returns_bin['Churn_Rate'] = churn_by_returns_bin['Target_Churn'] * 100  # to percent\n",
        "\n",
        "# Step 3: Plot churn rate by returns bin\n",
        "plt.figure(figsize=(10,6))\n",
        "sns.set_theme(style=\"whitegrid\")\n",
        "\n",
        "ax = sns.barplot(data=churn_by_returns_bin, x='Returns_Bin', y='Churn_Rate', palette='viridis')\n",
        "\n",
        "plt.title('Customer Churn Rate by Number of Returns (Binned)', fontsize=16, fontweight='bold')\n",
        "plt.xlabel('Number of Returns', fontsize=12)\n",
        "plt.ylabel('Churn Rate (%)', fontsize=12)\n",
        "\n",
        "# Add data labels on top of bars\n",
        "for p in ax.patches:\n",
        "    height = p.get_height()\n",
        "    ax.annotate(f'{height:.1f}%', (p.get_x() + p.get_width() / 2., height),\n",
        "                ha='center', va='bottom', fontsize=11, xytext=(0, 3), textcoords='offset points')\n",
        "\n",
        "plt.tight_layout()\n",
        "plt.show()"
      ],
      "metadata": {
        "id": "f3ILpWQFiwl-"
      },
      "execution_count": null,
      "outputs": []
    },
    {
      "cell_type": "code",
      "source": [
        "# Group by both Age Group and Gender, calculate mean of Years_as_Customer\n",
        "age_gender_group_data = df.groupby(['Age_Group_5', 'Gender'], observed=False)['Years_as_Customer'].mean().reset_index()\n",
        "\n",
        "# Create ordered categorical type to preserve label order\n",
        "age_gender_group_data['Age_Group_5'] = pd.Categorical(\n",
        "    age_gender_group_data['Age_Group_5'], categories=labels_5, ordered=True\n",
        ")\n",
        "\n",
        "sns.set_theme(style=\"white\")\n",
        "\n",
        "# Sort by age group order (not value)\n",
        "age_gender_group_data = age_gender_group_data.sort_values('Age_Group_5')\n",
        "\n",
        "# Plot, change y to 'Years_as_Customer'\n",
        "plt.figure(figsize=(12, 6))\n",
        "barplot = sns.barplot(\n",
        "    data=age_gender_group_data,\n",
        "    x='Age_Group_5',\n",
        "    y='Years_as_Customer',  # Changed to 'Years_as_Customer'\n",
        "    hue='Gender',  # Differentiate by gender\n",
        "    palette='mako'\n",
        ")\n",
        "\n",
        "\n",
        "# Formatting\n",
        "plt.title(\"Average Years as Customer by Age Groups with Gender Labels\", fontsize=16, weight='bold')\n",
        "plt.xlabel(\"Age Group\", fontsize=12)\n",
        "plt.ylabel(\"Years_as_Customer\", fontsize=12)\n",
        "plt.xticks(rotation=45)\n",
        "plt.tight_layout()\n",
        "plt.show()"
      ],
      "metadata": {
        "id": "SaUt-nRYDOJu"
      },
      "execution_count": null,
      "outputs": []
    },
    {
      "cell_type": "code",
      "source": [
        "\n",
        "\n",
        "plt.figure(figsize=(8, 6))\n",
        "sns.set(style=\"whitegrid\")\n",
        "\n",
        "# Bar plot of mean income per gender, without the confidence interval (no vertical line)\n",
        "ax = sns.barplot(x='Gender', y='Annual_Income', data=df, estimator='mean', ci=None, palette='coolwarm')\n",
        "\n",
        "# Add data labels on top of the bars\n",
        "for p in ax.patches:\n",
        "    ax.annotate(f'{p.get_height():.2f}',\n",
        "                (p.get_x() + p.get_width() / 2., p.get_height()),\n",
        "                ha='center', va='center',\n",
        "                fontsize=12, color='black',\n",
        "                xytext=(0, 5), textcoords='offset points')\n",
        "\n",
        "# Enhancements\n",
        "plt.title('Average Annual Income by Gender', fontsize=14, fontweight='bold')\n",
        "plt.xlabel('Gender', fontsize=12)\n",
        "plt.ylabel('Average Income ($)', fontsize=12)\n",
        "plt.grid(axis='y', linestyle='--', alpha=0.6)\n",
        "plt.tight_layout()\n",
        "plt.show()\n"
      ],
      "metadata": {
        "id": "K4PuEYKUJXhn"
      },
      "execution_count": null,
      "outputs": []
    },
    {
      "cell_type": "code",
      "source": [
        "# --- Step 1: Grouped Data ---\n",
        "# Satisfaction by Age Group\n",
        "satisfaction_age = df.groupby('Age_Group_5', observed=False)['Satisfaction_Score'].mean().reset_index()\n",
        "\n",
        "# Satisfaction by Gender\n",
        "satisfaction_gender = df.groupby('Gender')['Satisfaction_Score'].mean().reset_index()\n",
        "\n",
        "# --- Step 2: Plotting ---\n",
        "sns.set_theme(style=\"whitegrid\")\n",
        "fig, axes = plt.subplots(1, 2, figsize=(16, 6))\n",
        "\n",
        "# --- Subplot 1: Satisfaction by Age Group ---\n",
        "sns.barplot(data=satisfaction_age, x='Age_Group_5', y='Satisfaction_Score', palette='viridis', ax=axes[0])\n",
        "axes[0].set_title(\"Avg. Satisfaction Score by Age Group\", fontsize=14, weight='bold')\n",
        "axes[0].set_xlabel(\"Age Group\")\n",
        "axes[0].set_ylabel(\"Satisfaction Score\")\n",
        "axes[0].tick_params(axis='x', rotation=30)\n",
        "\n",
        "# Add data labels\n",
        "for bar in axes[0].patches:\n",
        "    height = bar.get_height()\n",
        "    axes[0].text(bar.get_x() + bar.get_width() / 2, height + 0.1, f\"{height:.1f}\", ha='center', fontsize=10)\n",
        "\n",
        "# --- Subplot 2: Satisfaction by Gender ---\n",
        "sns.barplot(data=satisfaction_gender, x='Gender', y='Satisfaction_Score', palette='pastel', ax=axes[1])\n",
        "axes[1].set_title(\"Avg. Satisfaction Score by Gender\", fontsize=14, weight='bold')\n",
        "axes[1].set_xlabel(\"Gender\")\n",
        "axes[1].set_ylabel(\"Satisfaction Score\")\n",
        "\n",
        "# Add data labels\n",
        "for bar in axes[1].patches:\n",
        "    height = bar.get_height()\n",
        "    axes[1].text(bar.get_x() + bar.get_width() / 2, height + 0.1, f\"{height:.1f}\", ha='center', fontsize=10)\n",
        "\n",
        "plt.tight_layout()\n",
        "plt.show()"
      ],
      "metadata": {
        "id": "yZuE5ec-j_m0"
      },
      "execution_count": null,
      "outputs": []
    },
    {
      "cell_type": "code",
      "source": [
        "df['Purchases_per_Year'] = df['Num_of_Purchases'] / df['Years_as_Customer']"
      ],
      "metadata": {
        "id": "EjAq-j2eBpL2"
      },
      "execution_count": null,
      "outputs": []
    },
    {
      "cell_type": "code",
      "source": [
        "df['Target_Churn'] = df['Target_Churn'].astype(int)\n",
        "\n",
        "# --- Churn Rate by Age Group ---\n",
        "age_churn = df.groupby('Age_Group_5', observed=False)['Target_Churn'].mean().reset_index()\n",
        "age_churn['Churn_Rate'] = age_churn['Target_Churn'] * 100\n",
        "\n",
        "# --- Churn Rate by Gender ---\n",
        "gender_churn = df.groupby('Gender')['Target_Churn'].mean().reset_index()\n",
        "gender_churn['Churn_Rate'] = gender_churn['Target_Churn'] * 100\n",
        "\n",
        "# --- Plotting ---\n",
        "sns.set_theme(style=\"whitegrid\")\n",
        "fig, axes = plt.subplots(1, 2, figsize=(16, 6))\n",
        "\n",
        "# --- Subplot 1: Churn by Age Group ---\n",
        "sns.barplot(data=age_churn, x='Age_Group_5', y='Churn_Rate', palette='coolwarm', ax=axes[0])\n",
        "axes[0].set_title(\"Churn Rate by Age Group\", fontsize=14, weight='bold')\n",
        "axes[0].set_xlabel(\"Age Group\")\n",
        "axes[0].set_ylabel(\"Churn Rate (%)\")\n",
        "axes[0].tick_params(axis='x', rotation=30)\n",
        "\n",
        "# Add data labels\n",
        "for bar in axes[0].patches:\n",
        "    height = bar.get_height()\n",
        "    axes[0].text(bar.get_x() + bar.get_width() / 2, height + 1, f\"{height:.1f}%\", ha='center', fontsize=10)\n",
        "\n",
        "# --- Subplot 2: Churn by Gender ---\n",
        "sns.barplot(data=gender_churn, x='Gender', y='Churn_Rate', palette='Set2', ax=axes[1])\n",
        "axes[1].set_title(\"Churn Rate by Gender\", fontsize=14, weight='bold')\n",
        "axes[1].set_xlabel(\"Gender\")\n",
        "axes[1].set_ylabel(\"Churn Rate (%)\")\n",
        "\n",
        "# Add data labels\n",
        "for bar in axes[1].patches:\n",
        "    height = bar.get_height()\n",
        "    axes[1].text(bar.get_x() + bar.get_width() / 2, height + 1, f\"{height:.1f}%\", ha='center', fontsize=10)\n",
        "\n",
        "plt.tight_layout()\n",
        "plt.show()"
      ],
      "metadata": {
        "id": "i0DAspAiKltu"
      },
      "execution_count": null,
      "outputs": []
    },
    {
      "cell_type": "code",
      "source": [
        "# Group by Age Group and Gender\n",
        "age_gender_churn = df.groupby(['Age_Group_5', 'Gender'], observed=False)['Target_Churn'].mean().reset_index()\n",
        "age_gender_churn['Churn_Rate'] = age_gender_churn['Target_Churn'] * 100\n",
        "\n",
        "# Set custom colors to match previous gender chart\n",
        "gender_palette = {\n",
        "    'Female': '#86b5a9',  # same as your greenish color\n",
        "    'Male': '#da9167',    # same as your orangish color\n",
        "    'Other': '#949dc1'    # same as your purplish color\n",
        "}\n",
        "\n",
        "# Plotting\n",
        "sns.set_theme(style=\"whitegrid\")\n",
        "plt.figure(figsize=(14, 6))\n",
        "\n",
        "# Grouped barplot with specified color palette\n",
        "sns.barplot(\n",
        "    data=age_gender_churn,\n",
        "    x='Age_Group_5',\n",
        "    y='Churn_Rate',\n",
        "    hue='Gender',\n",
        "    palette=gender_palette\n",
        ")\n",
        "\n",
        "# Customizations\n",
        "plt.title(\"Churn Rate by Age Group and Gender\", fontsize=14, weight='bold')\n",
        "plt.xlabel(\"Age Group\")\n",
        "plt.ylabel(\"Churn Rate (%)\")\n",
        "plt.xticks(rotation=30)\n",
        "\n",
        "# Add data labels\n",
        "for container in plt.gca().containers:\n",
        "    plt.bar_label(container, fmt='%.1f%%', label_type='edge', fontsize=9)\n",
        "\n",
        "plt.legend(title=\"Gender\")\n",
        "plt.tight_layout()\n",
        "plt.show()"
      ],
      "metadata": {
        "id": "Qywk0puIuJCj"
      },
      "execution_count": null,
      "outputs": []
    },
    {
      "cell_type": "code",
      "source": [
        "satisfaction_churn = df.groupby('Target_Churn')['Satisfaction_Score'].mean().reset_index()\n",
        "satisfaction_churn['Churn_Label'] = satisfaction_churn['Target_Churn'].map({0: 'No Churn', 1: 'Churn'})\n",
        "\n",
        "# Define manual colors: green for No Churn, red for Churn\n",
        "custom_palette = ['green', 'red']  # Order: [No Churn, Churn]\n",
        "\n",
        "# --- Step 2: Plotting ---\n",
        "sns.set_theme(style=\"whitegrid\")\n",
        "plt.figure(figsize=(8, 6))\n",
        "\n",
        "ax = sns.barplot(data=satisfaction_churn, x='Churn_Label', y='Satisfaction_Score', palette=custom_palette)\n",
        "plt.title(\"😊 Avg. Satisfaction Score by Churn Status\", fontsize=14, weight='bold')\n",
        "plt.xlabel(\"Churn Status\")\n",
        "plt.ylabel(\"Avg. Satisfaction Score\")\n",
        "\n",
        "# Add data labels\n",
        "for bar in ax.patches:\n",
        "    height = bar.get_height()\n",
        "    ax.text(bar.get_x() + bar.get_width() / 2, height + 0.1, f\"{height:.1f}\", ha='center', fontsize=11)\n",
        "\n",
        "plt.tight_layout()\n",
        "plt.show()"
      ],
      "metadata": {
        "id": "Cs7UIBfsntoT"
      },
      "execution_count": null,
      "outputs": []
    },
    {
      "cell_type": "code",
      "source": [
        "income_bins = [0, 40, 80, 120, df['Annual_Income'].max() + 1]\n",
        "income_labels = ['Low', 'Medium', 'High', 'Very High']\n",
        "df['Income_Group'] = pd.cut(df['Annual_Income'], bins=income_bins, labels=income_labels, right=False)\n",
        "\n",
        "# --- Step 2A: Satisfaction by Income Group ---\n",
        "satisfaction_by_income = df.groupby('Income_Group', observed=False)['Satisfaction_Score'].mean().reset_index()\n",
        "\n",
        "# --- Step 2B: Churn Rate by Income Group ---\n",
        "churn_by_income = df.groupby('Income_Group', observed=False)['Target_Churn'].mean().reset_index()\n",
        "churn_by_income['Churn_Rate'] = churn_by_income['Target_Churn'] * 100  # percentage\n",
        "\n",
        "# --- Step 3: Plotting ---\n",
        "sns.set_theme(style=\"whitegrid\")\n",
        "fig, axes = plt.subplots(1, 2, figsize=(16, 6))\n",
        "\n",
        "# Plot A: Satisfaction Score\n",
        "sns.barplot(data=satisfaction_by_income, x='Income_Group', y='Satisfaction_Score', palette='Blues', ax=axes[0])\n",
        "axes[0].set_title(\"Avg. Satisfaction Score by Income Group\", fontsize=14, weight='bold')\n",
        "axes[0].set_ylabel(\"Avg. Satisfaction Score\")\n",
        "axes[0].set_xlabel(\"Income Group\")\n",
        "\n",
        "# Add data labels\n",
        "for bar in axes[0].patches:\n",
        "    height = bar.get_height()\n",
        "    axes[0].text(bar.get_x() + bar.get_width()/2, height + 0.1, f\"{height:.1f}\", ha='center')\n",
        "\n",
        "# Plot B: Churn Rate\n",
        "sns.barplot(data=churn_by_income, x='Income_Group', y='Churn_Rate', palette='Reds', ax=axes[1])\n",
        "axes[1].set_title(\"Churn Rate by Income Group\", fontsize=14, weight='bold')\n",
        "axes[1].set_ylabel(\"Churn Rate (%)\")\n",
        "axes[1].set_xlabel(\"Income Group\")\n",
        "\n",
        "# Add data labels\n",
        "for bar in axes[1].patches:\n",
        "    height = bar.get_height()\n",
        "    axes[1].text(bar.get_x() + bar.get_width()/2, height + 0.5, f\"{height:.1f}%\", ha='center')\n",
        "\n",
        "plt.tight_layout()\n",
        "plt.show()"
      ],
      "metadata": {
        "id": "Mxkz3XFcoXRB"
      },
      "execution_count": null,
      "outputs": []
    },
    {
      "cell_type": "code",
      "source": [
        "# Group by Income Group and Gender, calculate mean Total Spend\n",
        "income_spend = df.groupby(['Income_Group', 'Gender'], observed=False)['Total_Spend'].mean().reset_index()\n",
        "\n",
        "# Set up the plot\n",
        "plt.figure(figsize=(12, 6))\n",
        "sns.barplot(data=income_spend, x='Income_Group', y='Total_Spend', hue='Gender', palette='viridis')\n",
        "\n",
        "# Add labels on each bar\n",
        "for container in plt.gca().containers:\n",
        "    plt.bar_label(container, fmt='${:.2f}', fontsize=10)\n",
        "\n",
        "# Customize the plot\n",
        "plt.title(\"Average Total Spend by Income Group and Gender\", fontsize=14, weight='bold')\n",
        "plt.xlabel(\"Income Group\", fontsize=12)\n",
        "plt.ylabel(\"Average Total Spend ($)\", fontsize=12)\n",
        "plt.tight_layout()\n",
        "\n",
        "# Show plot\n",
        "plt.show()\n"
      ],
      "metadata": {
        "id": "ah6NDxKUkSpf"
      },
      "execution_count": null,
      "outputs": []
    },
    {
      "cell_type": "code",
      "source": [
        "# Map boolean to descriptive labels\n",
        "df['Email_Opt_In_Label'] = df['Email_Opt_In'].replace({True: 'Opted In', False: 'Not Opted In'})\n",
        "\n",
        "# Group and calculate churn rate\n",
        "email_churn = df.groupby('Email_Opt_In_Label', observed=False)['Target_Churn'].mean().reset_index()\n",
        "email_churn['Churn_Rate'] = email_churn['Target_Churn'] * 100\n",
        "\n",
        "# Plot\n",
        "plt.figure(figsize=(6, 5))\n",
        "ax = sns.barplot(data=email_churn, x='Email_Opt_In_Label', y='Churn_Rate', palette='pastel')\n",
        "plt.title(\"Churn Rate by Email Opt-In\", fontsize=14, weight='bold')\n",
        "plt.ylabel(\"Churn Rate (%)\")\n",
        "plt.xlabel(\"Email Opt-In Status\")\n",
        "\n",
        "# Add data labels\n",
        "for p in ax.patches:\n",
        "    height = p.get_height()\n",
        "    ax.annotate(f'{height:.1f}%',\n",
        "                (p.get_x() + p.get_width() / 2., height),\n",
        "                ha='center', va='bottom', fontsize=10, color='black')\n",
        "\n",
        "plt.tight_layout()\n",
        "plt.show()\n"
      ],
      "metadata": {
        "id": "aueyBZSGQ5Ug"
      },
      "execution_count": null,
      "outputs": []
    },
    {
      "cell_type": "code",
      "source": [
        "# Create income bins\n",
        "df['Income_Group'] = pd.cut(df['Annual_Income'], bins=[0, 30, 60, 90, 120, 200],\n",
        "                            labels=['<30k', '30-60k', '60-90k', '90-120k', '120k+'])\n",
        "\n",
        "# Churn rate by income group\n",
        "income_churn = df.groupby('Income_Group', observed=False)['Target_Churn'].mean().reset_index()\n",
        "income_churn['Churn_Rate'] = income_churn['Target_Churn'] * 100\n",
        "\n",
        "# Plot\n",
        "plt.figure(figsize=(10, 5))\n",
        "ax = sns.barplot(data=income_churn, x='Income_Group', y='Churn_Rate', palette='viridis')\n",
        "plt.title(\"Churn Rate by Income Group\", fontsize=14, weight='bold')\n",
        "plt.ylabel(\"Churn Rate (%)\")\n",
        "plt.xlabel(\"Income Group\")\n",
        "\n",
        "# Add labels manually\n",
        "for p in ax.patches:\n",
        "    height = p.get_height()\n",
        "    ax.annotate(f'{height:.1f}%',\n",
        "                (p.get_x() + p.get_width() / 2., height),\n",
        "                ha='center', va='bottom', fontsize=10, color='black')\n",
        "\n",
        "plt.tight_layout()\n",
        "plt.show()\n"
      ],
      "metadata": {
        "id": "acXBOMqbLBeX"
      },
      "execution_count": null,
      "outputs": []
    },
    {
      "cell_type": "code",
      "source": [
        "# Group years of customer into bins\n",
        "df['Years_Group'] = pd.cut(df['Years_as_Customer'], bins=[0, 3, 6, 10, 15, 20], labels=['0-3', '4-6', '7-10', '11-15', '16+'])\n",
        "\n",
        "# Calculate churn rate by years group\n",
        "years_churn = df.groupby('Years_Group', observed=False)['Target_Churn'].mean().reset_index()\n",
        "years_churn['Churn_Rate'] = years_churn['Target_Churn'] * 100\n",
        "\n",
        "# Plotting\n",
        "plt.figure(figsize=(10, 5))\n",
        "ax = sns.barplot(data=years_churn, x='Years_Group', y='Churn_Rate', palette='mako')\n",
        "plt.title(\"Churn Rate by Years as Customer\", fontsize=14, weight='bold')\n",
        "plt.ylabel(\"Churn Rate (%)\")\n",
        "plt.xlabel(\"Years as Customer\")\n",
        "\n",
        "# Add value labels on bars\n",
        "for p in ax.patches:\n",
        "    height = p.get_height()\n",
        "    ax.annotate(f'{height:.1f}%',\n",
        "                (p.get_x() + p.get_width() / 2., height),\n",
        "                ha='center', va='bottom', fontsize=10, color='black')\n",
        "\n",
        "plt.tight_layout()\n",
        "plt.show()\n"
      ],
      "metadata": {
        "id": "s-gpwpWfMJ3P"
      },
      "execution_count": null,
      "outputs": []
    },
    {
      "cell_type": "code",
      "source": [],
      "metadata": {
        "id": "q-YeFSqlPhGO"
      },
      "execution_count": null,
      "outputs": []
    }
  ]
}