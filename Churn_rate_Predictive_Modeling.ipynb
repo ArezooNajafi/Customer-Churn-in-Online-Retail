{
  "nbformat": 4,
  "nbformat_minor": 0,
  "metadata": {
    "colab": {
      "private_outputs": true,
      "provenance": [],
      "authorship_tag": "ABX9TyOfJFZl/gZWMmaWIGIdOyCF",
      "include_colab_link": true
    },
    "kernelspec": {
      "name": "python3",
      "display_name": "Python 3"
    },
    "language_info": {
      "name": "python"
    }
  },
  "cells": [
    {
      "cell_type": "markdown",
      "metadata": {
        "id": "view-in-github",
        "colab_type": "text"
      },
      "source": [
        "<a href=\"https://colab.research.google.com/github/ArezooNajafi/Customer-Churn-in-Online-Retail/blob/main/Churn_rate_Predictive_Modeling.ipynb\" target=\"_parent\"><img src=\"https://colab.research.google.com/assets/colab-badge.svg\" alt=\"Open In Colab\"/></a>"
      ]
    },
    {
      "cell_type": "code",
      "source": [
        "!pip install pandas"
      ],
      "metadata": {
        "id": "OMRPBWIHGucp"
      },
      "execution_count": null,
      "outputs": []
    },
    {
      "cell_type": "code",
      "source": [
        "import kagglehub\n",
        "\n",
        "# Download latest version\n",
        "path = kagglehub.dataset_download(\"hassaneskikri/online-retail-customer-churn-dataset\")\n",
        "\n",
        "print(\"Path to dataset files:\", path)"
      ],
      "metadata": {
        "id": "LdNQfrnaI3aF"
      },
      "execution_count": null,
      "outputs": []
    },
    {
      "cell_type": "code",
      "source": [
        "import os\n",
        "\n",
        "# List all files inside the downloaded dataset folder\n",
        "files = os.listdir(path)\n",
        "print(files)\n"
      ],
      "metadata": {
        "id": "Zsu9RycfI4oG"
      },
      "execution_count": null,
      "outputs": []
    },
    {
      "cell_type": "code",
      "source": [
        "import pandas as pd\n",
        "\n",
        "# Full path to the CSV file\n",
        "csv_file_path = os.path.join(path, \"online_retail_customer_churn.csv\")\n",
        "\n",
        "# Read it into a DataFrame\n",
        "df = pd.read_csv(csv_file_path)\n",
        "\n",
        "# Show first 5 rows\n",
        "df.head()"
      ],
      "metadata": {
        "id": "T2PKNrooI7A0"
      },
      "execution_count": null,
      "outputs": []
    },
    {
      "cell_type": "code",
      "source": [
        "df.info()"
      ],
      "metadata": {
        "id": "KkFMlRxrNpLu"
      },
      "execution_count": null,
      "outputs": []
    },
    {
      "cell_type": "code",
      "source": [
        "duplicates = df.duplicated()\n",
        "print(f\"Number of duplicate rows: {duplicates.sum()}\")\n",
        "\n",
        "# If duplicates exist:\n",
        "df = df.drop_duplicates()\n"
      ],
      "metadata": {
        "id": "EjxiIq4ROMgb"
      },
      "execution_count": null,
      "outputs": []
    },
    {
      "cell_type": "code",
      "source": [
        "df.describe(include='all') # Use include='all' to include all columns"
      ],
      "metadata": {
        "id": "4kdFNMyROjXe"
      },
      "execution_count": null,
      "outputs": []
    },
    {
      "cell_type": "code",
      "source": [
        "import matplotlib.pyplot as plt\n",
        "import seaborn as sns\n",
        "import math\n",
        "\n",
        "# Select numeric columns\n",
        "numeric_cols = df.select_dtypes(include=['int64', 'float64']).columns\n",
        "\n",
        "# Set up subplot grid size\n",
        "n_cols = 3  # 3 plots per row\n",
        "n_rows = math.ceil(len(numeric_cols) / n_cols)\n",
        "\n",
        "# Set figure size\n",
        "plt.figure(figsize=(n_cols * 5, n_rows * 4))\n",
        "\n",
        "# Loop through each column and create a subplot\n",
        "for idx, col in enumerate(numeric_cols):\n",
        "    plt.subplot(n_rows, n_cols, idx + 1)\n",
        "    sns.histplot(df[col], kde=True, bins=30, color='skyblue')\n",
        "    plt.title(f'{col}', fontsize=10)\n",
        "    plt.xlabel('')\n",
        "    plt.ylabel('')\n",
        "\n",
        "plt.tight_layout()\n",
        "plt.show()\n"
      ],
      "metadata": {
        "id": "qlB-rvAAggUu"
      },
      "execution_count": null,
      "outputs": []
    },
    {
      "cell_type": "code",
      "source": [
        "numeric_cols = df.select_dtypes(include=['int64', 'float64']).columns\n",
        "\n",
        "# Set up subplot grid size\n",
        "n_cols = 3  # 3 plots per row\n",
        "n_rows = math.ceil(len(numeric_cols) / n_cols)\n",
        "\n",
        "# Set figure size\n",
        "plt.figure(figsize=(n_cols * 5, n_rows * 4))\n",
        "\n",
        "# Loop through each column and create a boxplot\n",
        "for idx, col in enumerate(numeric_cols):\n",
        "    plt.subplot(n_rows, n_cols, idx + 1)\n",
        "    sns.boxplot(y=df[col], color='lightcoral')\n",
        "    plt.title(f'{col}', fontsize=10)\n",
        "    plt.xlabel('')\n",
        "    plt.ylabel('')\n",
        "\n",
        "plt.tight_layout()\n",
        "plt.show()"
      ],
      "metadata": {
        "id": "zXtQP2zwi0iV"
      },
      "execution_count": null,
      "outputs": []
    },
    {
      "cell_type": "code",
      "source": [
        "def detect_outliers_iqr(data, column):\n",
        "    Q1 = data[column].quantile(0.25)\n",
        "    Q3 = data[column].quantile(0.75)\n",
        "    IQR = Q3 - Q1\n",
        "    lower_bound = Q1 - 1.5 * IQR\n",
        "    upper_bound = Q3 + 1.5 * IQR\n",
        "\n",
        "    outliers = data[(data[column] < lower_bound) | (data[column] > upper_bound)]\n",
        "    return outliers\n",
        "\n",
        "# Now, apply it to all numeric columns\n",
        "numeric_cols = df.select_dtypes(include=['int64', 'float64']).columns\n",
        "\n",
        "# Create a summary\n",
        "outlier_summary = {}\n",
        "\n",
        "for col in numeric_cols:\n",
        "    outliers = detect_outliers_iqr(df, col)\n",
        "    outlier_summary[col] = len(outliers)\n",
        "\n",
        "# Print nicely\n",
        "for col, n_outliers in outlier_summary.items():\n",
        "    print(f\"{col}: {n_outliers} outliers\")\n"
      ],
      "metadata": {
        "id": "XWVpnDjGjpdJ"
      },
      "execution_count": null,
      "outputs": []
    },
    {
      "cell_type": "code",
      "source": [
        "data=df.drop(['Customer_ID'], axis=1)\n"
      ],
      "metadata": {
        "id": "qrCvK_dESFY3"
      },
      "execution_count": null,
      "outputs": []
    },
    {
      "cell_type": "code",
      "source": [
        "# Step 2: Create full dummies for Gender and Promotion_Response (no drop)\n",
        "data = pd.get_dummies(data, columns=['Gender', 'Promotion_Response'], drop_first=False).astype(int)\n",
        "\n",
        "# Step 3: Convert Email_Opt_In from bool to int (True/False → 1/0)\n",
        "data['Email_Opt_In'] = data['Email_Opt_In'].astype(int)"
      ],
      "metadata": {
        "id": "1SebrC3NGJuC"
      },
      "execution_count": null,
      "outputs": []
    },
    {
      "cell_type": "code",
      "source": [
        "data.head()"
      ],
      "metadata": {
        "id": "xSHgQT7lGMzA"
      },
      "execution_count": null,
      "outputs": []
    },
    {
      "cell_type": "code",
      "source": [
        "x=data.drop(['Target_Churn'], axis=1)\n",
        "y=data['Target_Churn']"
      ],
      "metadata": {
        "id": "eU2vaBJsGWLS"
      },
      "execution_count": null,
      "outputs": []
    },
    {
      "cell_type": "code",
      "source": [
        "from sklearn.preprocessing import LabelEncoder, MinMaxScaler\n",
        "scaler = MinMaxScaler()\n",
        "x = scaler.fit_transform(x)"
      ],
      "metadata": {
        "id": "0CyRowKtVkUy"
      },
      "execution_count": null,
      "outputs": []
    },
    {
      "cell_type": "code",
      "source": [
        "import numpy as np\n",
        "from sklearn.model_selection import train_test_split, GridSearchCV, cross_val_score\n",
        "from sklearn.ensemble import RandomForestClassifier\n",
        "from sklearn.metrics import accuracy_score, classification_report, confusion_matrix\n",
        "from sklearn.ensemble import RandomForestClassifier\n",
        "from sklearn.svm import SVC\n",
        "from xgboost import XGBClassifier\n",
        "from sklearn.linear_model import LogisticRegression\n",
        "import matplotlib.pyplot as plt\n",
        "import seaborn as sns"
      ],
      "metadata": {
        "id": "KBKTDKDrG-m_"
      },
      "execution_count": null,
      "outputs": []
    },
    {
      "cell_type": "code",
      "source": [
        "# Split the data into training and testing sets\n",
        "x_train, x_test, y_train, y_test = train_test_split(x, y, test_size=0.2, random_state=42)\n"
      ],
      "metadata": {
        "id": "2VzYEu0wJ1-m"
      },
      "execution_count": null,
      "outputs": []
    },
    {
      "cell_type": "code",
      "source": [
        "def training(model, name, axes):\n",
        "    model.fit(x_train, y_train)\n",
        "    pred = model.predict(x_test)\n",
        "    score = accuracy_score(y_test, pred)\n",
        "    report = classification_report(y_test, pred)\n",
        "    cm = confusion_matrix(y_test, pred)\n",
        "    sns.heatmap(cm, annot=True, ax=axes)\n",
        "    axes.set_title(\"{}: {}%\".format(name, round(score*100, 2)))\n",
        "    return report"
      ],
      "metadata": {
        "id": "CqLd1nuTWXUG"
      },
      "execution_count": null,
      "outputs": []
    },
    {
      "cell_type": "code",
      "source": [
        "log_reg = LogisticRegression()\n",
        "rfc = RandomForestClassifier()\n",
        "svc = SVC(C=0.9)\n",
        "xgb = XGBClassifier(learning_rate=0.9)\n",
        "\n",
        "# Model list\n",
        "models = [log_reg, rfc, svc, xgb]\n",
        "names = [\"Logistic Regression\", \"Random Forest\", \"Support Vector Machine\", \"XGBoost\"]"
      ],
      "metadata": {
        "id": "rQSup-8yWYRp"
      },
      "execution_count": null,
      "outputs": []
    },
    {
      "cell_type": "code",
      "source": [
        "reports = []\n",
        "fig, axes = plt.subplots(nrows=2, ncols=2, figsize=(10, 6))\n",
        "row = 0\n",
        "col = 0\n",
        "for i, j in zip(models, names):\n",
        "    if col >= 2:\n",
        "        row += 1\n",
        "        col = 0\n",
        "    reports += [training(i, j, axes[row][col])]\n",
        "    col += 1"
      ],
      "metadata": {
        "id": "o70vrgDnWbQO"
      },
      "execution_count": null,
      "outputs": []
    },
    {
      "cell_type": "code",
      "source": [
        "# Initialize Random Forest Classifier\n",
        "rf = RandomForestClassifier(random_state=42, max_depth=5)\n",
        "\n",
        "# Train the model\n",
        "rf.fit(x_train, y_train)\n",
        "\n",
        "# Predict on the test set\n",
        "y_pred_rf = rf.predict(x_test)\n",
        "\n",
        "# Evaluate the model\n",
        "print(\"Random Forest Accuracy:\", accuracy_score(y_test, y_pred_rf))\n",
        "print(\"Confusion Matrix:\\n\", confusion_matrix(y_test, y_pred_rf))\n",
        "print(\"Classification Report:\\n\", classification_report(y_test, y_pred_rf))\n"
      ],
      "metadata": {
        "id": "H2mA0KTaKLdm"
      },
      "execution_count": null,
      "outputs": []
    },
    {
      "cell_type": "code",
      "source": [
        "# Define hyperparameters for Grid Search\n",
        "param_grid = {\n",
        "    'n_estimators': [100, 200, 300],\n",
        "    'max_depth': [None, 10, 20, 30],\n",
        "    'min_samples_split': [2, 5, 10],\n",
        "    'min_samples_leaf': [1, 2, 4]\n",
        "}\n",
        "\n",
        "# Initialize GridSearchCV\n",
        "grid_search = GridSearchCV(estimator=rf, param_grid=param_grid, cv=5, scoring='accuracy', n_jobs=-1)\n",
        "\n",
        "# Fit GridSearchCV\n",
        "grid_search.fit(x_train, y_train)\n",
        "\n",
        "# Get best hyperparameters and best score\n",
        "print(\"Best Hyperparameters:\", grid_search.best_params_)\n",
        "print(\"Best Accuracy:\", grid_search.best_score_)\n"
      ],
      "metadata": {
        "id": "aVMLR98uKgUl"
      },
      "execution_count": null,
      "outputs": []
    },
    {
      "cell_type": "code",
      "source": [
        "from sklearn.model_selection import cross_validate, GridSearchCV\n",
        "from sklearn.ensemble import RandomForestClassifier\n",
        "from sklearn.metrics import accuracy_score, confusion_matrix, classification_report\n",
        "import numpy as np\n",
        "\n",
        "# Initialize Random Forest Classifier\n",
        "rf = RandomForestClassifier(random_state=42)\n",
        "\n",
        "# Step 1: Cross-validation on training data (without hyperparameter tuning)\n",
        "scoring = ['accuracy', 'precision', 'recall', 'f1', 'roc_auc']\n",
        "cv_results = cross_validate(rf, x_train, y_train, cv=5, scoring=scoring)\n",
        "\n",
        "# Cross-validation results output\n",
        "print(\"=== Cross-Validation Scores (Train Set) ===\")\n",
        "for metric in scoring:\n",
        "    mean = np.mean(cv_results[f'test_{metric}'])\n",
        "    std = np.std(cv_results[f'test_{metric}'])\n",
        "    print(f\"{metric.capitalize()}: {mean:.2f} (+/- {std:.2f})\")\n",
        "\n",
        "# Step 2: Hyperparameter tuning using GridSearchCV after cross-validation\n",
        "param_grid = {\n",
        "    'max_depth': [5, 10, 15, 20],\n",
        "    'n_estimators': [50, 100, 200],\n",
        "    'min_samples_split': [2, 5, 10]\n",
        "}\n",
        "grid_search = GridSearchCV(rf, param_grid, cv=5, scoring='accuracy')\n",
        "grid_search.fit(x_train, y_train)\n",
        "\n",
        "print(\"\\nBest Hyperparameters from Grid Search:\", grid_search.best_params_)\n",
        "\n",
        "# Step 3: Fit model with best parameters (after tuning)\n",
        "best_rf = grid_search.best_estimator_\n",
        "\n",
        "# Step 4: Predict on test set\n",
        "y_pred = best_rf.predict(x_test)\n",
        "\n",
        "# Step 5: Evaluate on test set\n",
        "print(\"\\n=== Final Evaluation on Test Set ===\")\n",
        "print(\"Random Forest Accuracy: %.2f\" % accuracy_score(y_test, y_pred))\n",
        "print(\"Confusion Matrix:\\n\", confusion_matrix(y_test, y_pred))\n",
        "print(\"Classification Report:\\n\", classification_report(y_test, y_pred))\n"
      ],
      "metadata": {
        "id": "VTJ54oMpMljW"
      },
      "execution_count": null,
      "outputs": []
    },
    {
      "cell_type": "code",
      "source": [
        "import matplotlib.pyplot as plt\n",
        "import pandas as pd\n",
        "\n",
        "# Fit the model (already done)\n",
        "rf.fit(x_train, y_train)\n",
        "\n",
        "# Get feature importance\n",
        "feature_importances = rf.feature_importances_\n",
        "\n",
        "# Create a DataFrame for feature importances\n",
        "features_df = pd.DataFrame({\n",
        "    'Feature': x_train.columns,\n",
        "    'Importance': feature_importances\n",
        "})\n",
        "\n",
        "# Sort features by importance\n",
        "features_df = features_df.sort_values(by='Importance', ascending=False)\n",
        "\n",
        "# Plot feature importance\n",
        "plt.figure(figsize=(10, 6))\n",
        "plt.barh(features_df['Feature'], features_df['Importance'])\n",
        "plt.xlabel('Importance')\n",
        "plt.title('Random Forest Feature Importance')\n",
        "plt.show()\n",
        "\n",
        "# Print the features with their importance\n",
        "print(features_df)\n"
      ],
      "metadata": {
        "id": "7efdqU9BRwF-"
      },
      "execution_count": null,
      "outputs": []
    },
    {
      "cell_type": "code",
      "source": [
        "from sklearn.feature_selection import SelectKBest, f_classif\n",
        "\n",
        "selector = SelectKBest(score_func=f_classif, k=10)  # Select top 10 features\n",
        "x_new = selector.fit_transform(x, y)\n",
        "\n",
        "selected_features = x.columns[selector.get_support()]\n",
        "print(\"Selected features:\", selected_features.tolist())\n"
      ],
      "metadata": {
        "id": "av7w3xGKlEE5"
      },
      "execution_count": null,
      "outputs": []
    },
    {
      "cell_type": "code",
      "source": [
        "from sklearn.ensemble import RandomForestClassifier\n",
        "from sklearn.feature_selection import SelectFromModel\n",
        "from sklearn.model_selection import train_test_split\n",
        "from sklearn.metrics import accuracy_score, precision_score, recall_score, f1_score, confusion_matrix, classification_report\n",
        "\n",
        "# Step 1: Select features using Random Forest\n",
        "model = RandomForestClassifier(n_estimators=100, random_state=42)\n",
        "\n",
        "# Fit the model to determine feature importance\n",
        "model.fit(x, y)\n",
        "\n",
        "# Select important features\n",
        "selector = SelectFromModel(model, threshold=\"mean\", max_features=10)\n",
        "x_selected = selector.transform(x)\n",
        "\n",
        "# Get the selected feature names\n",
        "selected_features = x.columns[selector.get_support()]\n",
        "print(\"Selected features:\", selected_features.tolist())\n",
        "\n",
        "# Step 2: Split the data into training and testing sets\n",
        "x_train, x_test, y_train, y_test = train_test_split(x_selected, y, test_size=0.3, random_state=42)\n",
        "\n",
        "# Step 3: Train the Random Forest model using the selected features\n",
        "rf_model = RandomForestClassifier(n_estimators=100, random_state=42)\n",
        "rf_model.fit(x_train, y_train)\n",
        "\n",
        "# Step 4: Make predictions on the test set\n",
        "y_pred = rf_model.predict(x_test)\n",
        "\n",
        "# Step 5: Evaluate the model using various metrics\n",
        "\n",
        "# Overall accuracy\n",
        "accuracy = accuracy_score(y_test, y_pred)\n",
        "\n",
        "# Precision, Recall, and F1-Score for all classes\n",
        "precision = precision_score(y_test, y_pred, average='macro')  # or 'micro' or 'weighted'\n",
        "recall = recall_score(y_test, y_pred, average='macro')  # or 'micro' or 'weighted'\n",
        "f1 = f1_score(y_test, y_pred, average='macro')  # or 'micro' or 'weighted'\n",
        "\n",
        "# Confusion Matrix\n",
        "conf_matrix = confusion_matrix(y_test, y_pred)\n",
        "\n",
        "# Detailed classification report\n",
        "class_report = classification_report(y_test, y_pred)\n",
        "\n",
        "# Step 6: Print evaluation metrics\n",
        "print(f\"Accuracy: {accuracy:.4f}\")\n",
        "print(f\"Precision (macro): {precision:.4f}\")\n",
        "print(f\"Recall (macro): {recall:.4f}\")\n",
        "print(f\"F1-Score (macro): {f1:.4f}\")\n",
        "print(f\"Confusion Matrix:\\n{conf_matrix}\")\n",
        "print(\"\\nClassification Report:\\n\", class_report)\n"
      ],
      "metadata": {
        "id": "y2HFYfFGsKv2"
      },
      "execution_count": null,
      "outputs": []
    },
    {
      "cell_type": "code",
      "source": [
        "# Evaluate the model on training data\n",
        "y_train_pred = rf_model.predict(x_train)\n",
        "training_accuracy = accuracy_score(y_train, y_train_pred)\n",
        "print(f\"Training Accuracy: {training_accuracy:.4f}\")\n",
        "\n",
        "# Evaluate the model on test data\n",
        "y_test_pred = rf_model.predict(x_test)\n",
        "test_accuracy = accuracy_score(y_test, y_test_pred)\n",
        "print(f\"Test Accuracy: {test_accuracy:.4f}\")\n"
      ],
      "metadata": {
        "id": "LKULCrxes4f8"
      },
      "execution_count": null,
      "outputs": []
    },
    {
      "cell_type": "code",
      "source": [
        "rf_model = RandomForestClassifier(\n",
        "    n_estimators=50,         # Fewer trees\n",
        "    max_depth=5,             # Shallower trees\n",
        "    min_samples_split=10,    # More general splits\n",
        "    min_samples_leaf=5,      # Larger leaf size\n",
        "    random_state=42\n",
        ")\n",
        "rf_model.fit(x_train, y_train)\n"
      ],
      "metadata": {
        "id": "Xmy1FCbqtGSe"
      },
      "execution_count": null,
      "outputs": []
    },
    {
      "cell_type": "code",
      "source": [
        "from sklearn.model_selection import cross_val_score\n",
        "cv_scores = cross_val_score(rf_model, x, y, cv=5)\n",
        "print(f\"Cross-Validation Accuracy: {cv_scores.mean():.4f} ± {cv_scores.std():.4f}\")\n"
      ],
      "metadata": {
        "id": "7qRN8v5ttHt3"
      },
      "execution_count": null,
      "outputs": []
    },
    {
      "cell_type": "code",
      "source": [
        "from sklearn.model_selection import GridSearchCV\n",
        "\n",
        "param_grid = {\n",
        "    'n_estimators': [50, 100, 200],\n",
        "    'max_depth': [5, 10, 20],\n",
        "    'min_samples_split': [2, 5, 10],\n",
        "    'min_samples_leaf': [1, 2, 4]\n",
        "}\n",
        "\n",
        "grid_search = GridSearchCV(estimator=rf_model, param_grid=param_grid, cv=5, n_jobs=-1, verbose=2)\n",
        "grid_search.fit(x_train, y_train)\n",
        "print(f\"Best Parameters: {grid_search.best_params_}\")\n"
      ],
      "metadata": {
        "id": "-7YXJwj7te-U"
      },
      "execution_count": null,
      "outputs": []
    },
    {
      "cell_type": "code",
      "source": [
        "from sklearn.preprocessing import StandardScaler\n",
        "\n",
        "# Assuming X is your feature matrix\n",
        "scaler = StandardScaler()\n",
        "X_scaled = scaler.fit_transform(x)\n"
      ],
      "metadata": {
        "id": "a7cFbi_WuGc-"
      },
      "execution_count": null,
      "outputs": []
    },
    {
      "cell_type": "code",
      "source": [
        "from sklearn.decomposition import PCA\n",
        "\n",
        "pca = PCA(n_components=0.95)  # Keep 95% of the variance\n",
        "X_pca = pca.fit_transform(X_scaled)\n"
      ],
      "metadata": {
        "id": "vyXgGtlVuekK"
      },
      "execution_count": null,
      "outputs": []
    },
    {
      "cell_type": "code",
      "source": [
        "from sklearn.ensemble import RandomForestClassifier\n",
        "\n",
        "model = RandomForestClassifier()\n",
        "model.fit(X_pca, y)  # Assuming y is your target variable\n"
      ],
      "metadata": {
        "id": "kDypuFTUuhZ7"
      },
      "execution_count": null,
      "outputs": []
    },
    {
      "cell_type": "code",
      "source": [
        "import numpy as np\n",
        "from sklearn.model_selection import train_test_split, cross_val_score, KFold\n",
        "from sklearn.metrics import accuracy_score, precision_score, recall_score, f1_score, roc_auc_score\n",
        "from sklearn.ensemble import RandomForestClassifier\n",
        "from sklearn.preprocessing import StandardScaler\n",
        "from sklearn.decomposition import PCA\n",
        "\n",
        "# Assuming X and y are your feature matrix and target variable\n",
        "X_scaled = StandardScaler().fit_transform(x)  # Standardize the data\n",
        "pca = PCA(n_components=0.95)  # Apply PCA to reduce dimensionality\n",
        "X_pca = pca.fit_transform(X_scaled)\n",
        "\n",
        "# Split the data into training and testing sets (80% training, 20% testing)\n",
        "X_train, X_test, y_train, y_test = train_test_split(X_pca, y, test_size=0.2, random_state=42)\n",
        "\n",
        "# Initialize the RandomForest model\n",
        "model = RandomForestClassifier(random_state=42)\n",
        "\n",
        "# Train the model on the training data\n",
        "model.fit(X_train, y_train)\n",
        "\n",
        "# Make predictions on both training and test sets\n",
        "train_preds = model.predict(X_train)\n",
        "test_preds = model.predict(X_test)\n",
        "\n",
        "# Calculate performance metrics for training data\n",
        "train_accuracy = accuracy_score(y_train, train_preds)\n",
        "train_precision = precision_score(y_train, train_preds)\n",
        "train_recall = recall_score(y_train, train_preds)\n",
        "train_f1 = f1_score(y_train, train_preds)\n",
        "train_roc_auc = roc_auc_score(y_train, model.predict_proba(X_train)[:, 1])\n",
        "\n",
        "# Calculate performance metrics for test data\n",
        "test_accuracy = accuracy_score(y_test, test_preds)\n",
        "test_precision = precision_score(y_test, test_preds)\n",
        "test_recall = recall_score(y_test, test_preds)\n",
        "test_f1 = f1_score(y_test, test_preds)\n",
        "test_roc_auc = roc_auc_score(y_test, model.predict_proba(X_test)[:, 1])\n",
        "\n",
        "# Print the performance metrics for training and test sets\n",
        "print(\"Training Metrics:\")\n",
        "print(f\"Accuracy: {train_accuracy:.4f}\")\n",
        "print(f\"Precision: {train_precision:.4f}\")\n",
        "print(f\"Recall: {train_recall:.4f}\")\n",
        "print(f\"F1 Score: {train_f1:.4f}\")\n",
        "print(f\"ROC AUC: {train_roc_auc:.4f}\")\n",
        "\n",
        "print(\"\\nTest Metrics:\")\n",
        "print(f\"Accuracy: {test_accuracy:.4f}\")\n",
        "print(f\"Precision: {test_precision:.4f}\")\n",
        "print(f\"Recall: {test_recall:.4f}\")\n",
        "print(f\"F1 Score: {test_f1:.4f}\")\n",
        "print(f\"ROC AUC: {test_roc_auc:.4f}\")\n",
        "\n",
        "# Optionally, use KFold cross-validation to evaluate the model's performance across multiple splits of the training data\n",
        "kf = KFold(n_splits=5, shuffle=True, random_state=42)\n",
        "\n",
        "cross_val_accuracies = cross_val_score(model, X_train, y_train, cv=kf, scoring='accuracy')\n",
        "cross_val_precisions = cross_val_score(model, X_train, y_train, cv=kf, scoring='precision')\n",
        "cross_val_recalls = cross_val_score(model, X_train, y_train, cv=kf, scoring='recall')\n",
        "cross_val_f1s = cross_val_score(model, X_train, y_train, cv=kf, scoring='f1')\n",
        "cross_val_roc_aucs = cross_val_score(model, X_train, y_train, cv=kf, scoring='roc_auc')\n",
        "\n",
        "# Print the cross-validation results\n",
        "print(\"\\nCross-Validation Metrics (5-fold):\")\n",
        "print(f\"Accuracy: {np.mean(cross_val_accuracies):.4f}\")\n",
        "print(f\"Precision: {np.mean(cross_val_precisions):.4f}\")\n",
        "print(f\"Recall: {np.mean(cross_val_recalls):.4f}\")\n",
        "print(f\"F1 Score: {np.mean(cross_val_f1s):.4f}\")\n",
        "print(f\"ROC AUC: {np.mean(cross_val_roc_aucs):.4f}\")\n"
      ],
      "metadata": {
        "id": "a7bMaDhnu7Di"
      },
      "execution_count": null,
      "outputs": []
    },
    {
      "cell_type": "code",
      "source": [
        "import pandas as pd\n",
        "import numpy as np\n",
        "from sklearn.model_selection import train_test_split\n",
        "from sklearn.tree import DecisionTreeClassifier\n",
        "from sklearn.metrics import accuracy_score, classification_report\n",
        "import matplotlib.pyplot as plt\n",
        "from sklearn import tree\n",
        "\n",
        "# Split dataset into training and testing sets\n",
        "X_train, X_test, y_train, y_test = train_test_split(x, y, test_size=0.2, random_state=42)\n",
        "\n",
        "# Initialize Decision Tree model\n",
        "dt_model = DecisionTreeClassifier(max_depth=5, min_samples_split=10, min_samples_leaf=5, random_state=42)\n",
        "\n",
        "# Train the model\n",
        "dt_model.fit(X_train, y_train)\n",
        "\n",
        "# Predictions on test set\n",
        "y_pred = dt_model.predict(X_test)\n",
        "\n",
        "# Evaluate model performance\n",
        "print(\"Accuracy:\", accuracy_score(y_test, y_pred))\n",
        "print(\"Classification Report:\\n\", classification_report(y_test, y_pred))\n"
      ],
      "metadata": {
        "id": "tquDUuZxunT2"
      },
      "execution_count": null,
      "outputs": []
    },
    {
      "cell_type": "code",
      "source": [
        "model = RandomForestClassifier(\n",
        "    n_estimators=100,\n",
        "    max_depth=5,              # control tree depth\n",
        "    min_samples_leaf=10,      # ensure each leaf has enough data\n",
        "    max_features='sqrt',      # limit features per split\n",
        "    random_state=42\n",
        ")\n"
      ],
      "metadata": {
        "id": "RbUuJ6ybyVzs"
      },
      "execution_count": null,
      "outputs": []
    },
    {
      "cell_type": "code",
      "source": [],
      "metadata": {
        "id": "INqe_rVwyW0g"
      },
      "execution_count": null,
      "outputs": []
    },
    {
      "cell_type": "markdown",
      "source": [
        "Gradient Boosting\n"
      ],
      "metadata": {
        "id": "Ja48X4rvUP7W"
      }
    },
    {
      "cell_type": "code",
      "source": [
        "from sklearn.ensemble import GradientBoostingClassifier\n",
        "from sklearn.metrics import accuracy_score, confusion_matrix, classification_report\n",
        "from sklearn.model_selection import cross_validate\n",
        "import numpy as np\n"
      ],
      "metadata": {
        "id": "MTduN9C_UNEp"
      },
      "execution_count": null,
      "outputs": []
    },
    {
      "cell_type": "code",
      "source": [
        "# Initialize Gradient Boosting Classifier\n",
        "gb = GradientBoostingClassifier(random_state=42)\n",
        "\n",
        "# Train the model\n",
        "gb.fit(x_train, y_train)\n",
        "\n",
        "# Predict on the test set\n",
        "y_pred_gb = gb.predict(x_test)\n",
        "\n",
        "# Evaluate the model\n",
        "print(\"Gradient Boosting Accuracy: %.2f\" % accuracy_score(y_test, y_pred_gb))\n",
        "print(\"Confusion Matrix:\\n\", confusion_matrix(y_test, y_pred_gb))\n",
        "print(\"Classification Report:\\n\", classification_report(y_test, y_pred_gb))\n"
      ],
      "metadata": {
        "id": "vioF0MHoUVSz"
      },
      "execution_count": null,
      "outputs": []
    },
    {
      "cell_type": "code",
      "source": [
        "from sklearn.model_selection import GridSearchCV\n",
        "\n",
        "# Hyperparameter tuning with GridSearchCV\n",
        "param_grid = {\n",
        "    'n_estimators': [50, 100, 150],\n",
        "    'learning_rate': [0.01, 0.1, 0.2],\n",
        "    'max_depth': [3, 5, 7]\n",
        "}\n",
        "\n",
        "grid_search = GridSearchCV(estimator=gb, param_grid=param_grid, cv=5, scoring='accuracy')\n",
        "grid_search.fit(x_train, y_train)\n",
        "\n",
        "# Best parameters and score\n",
        "print(\"Best Hyperparameters from Grid Search:\", grid_search.best_params_)\n",
        "print(\"Best Accuracy from Grid Search: %.2f\" % grid_search.best_score_)\n"
      ],
      "metadata": {
        "id": "dIHL5PbMUY7m"
      },
      "execution_count": null,
      "outputs": []
    },
    {
      "cell_type": "code",
      "source": [
        "# Train the model with the best parameters\n",
        "best_gb = grid_search.best_estimator_\n",
        "\n",
        "# Predict on the test set\n",
        "y_pred_best_gb = best_gb.predict(x_test)\n",
        "\n",
        "# Evaluate the model\n",
        "print(\"\\n=== Final Evaluation on Test Set ===\")\n",
        "print(\"Gradient Boosting Accuracy: %.2f\" % accuracy_score(y_test, y_pred_best_gb))\n",
        "print(\"Confusion Matrix:\\n\", confusion_matrix(y_test, y_pred_best_gb))\n",
        "print(\"Classification Report:\\n\", classification_report(y_test, y_pred_best_gb))\n"
      ],
      "metadata": {
        "id": "CCFgBtnmU0VS"
      },
      "execution_count": null,
      "outputs": []
    },
    {
      "cell_type": "code",
      "source": [
        "# Feature importance\n",
        "importances = best_gb.feature_importances_\n",
        "indices = np.argsort(importances)[::-1]\n",
        "\n",
        "print(\"Feature ranking:\")\n",
        "for f in range(x_train.shape[1]):\n",
        "    print(f\"{f + 1}. feature {x_train.columns[indices[f]]} ({importances[indices[f]]})\")\n"
      ],
      "metadata": {
        "id": "c9ilodrpU5rQ"
      },
      "execution_count": null,
      "outputs": []
    },
    {
      "cell_type": "code",
      "source": [
        "from sklearn.linear_model import LogisticRegression\n",
        "from sklearn.model_selection import cross_validate, StratifiedKFold\n",
        "from sklearn.metrics import accuracy_score, confusion_matrix, classification_report\n",
        "import numpy as np\n",
        "\n",
        "# Set up logistic regression\n",
        "logreg = LogisticRegression(max_iter=1000, random_state=42)\n",
        "\n",
        "# Use stratified cross-validation to maintain class balance in folds\n",
        "cv = StratifiedKFold(n_splits=5, shuffle=True, random_state=42)\n",
        "\n",
        "# Define metrics\n",
        "scoring = ['accuracy', 'precision', 'recall', 'f1', 'roc_auc']\n",
        "\n",
        "# Step 1: Cross-validation\n",
        "cv_results = cross_validate(logreg, x_train, y_train, cv=cv, scoring=scoring)\n",
        "\n",
        "print(\"=== Cross-Validation Scores (Train Set) ===\")\n",
        "for metric in scoring:\n",
        "    mean = np.mean(cv_results[f'test_{metric}'])\n",
        "    std = np.std(cv_results[f'test_{metric}'])\n",
        "    print(f\"{metric.capitalize()}: {mean:.2f} (+/- {std:.2f})\")\n",
        "\n",
        "# Step 2: Fit model on full training set\n",
        "logreg.fit(x_train, y_train)\n",
        "\n",
        "# Step 3: Predict on test set\n",
        "y_pred = logreg.predict(x_test)\n",
        "\n",
        "# Step 4: Evaluate on test set\n",
        "print(\"\\n=== Final Evaluation on Test Set ===\")\n",
        "print(\"Logistic Regression Accuracy: %.2f\" % accuracy_score(y_test, y_pred))\n",
        "print(\"Confusion Matrix:\\n\", confusion_matrix(y_test, y_pred))\n",
        "print(\"Classification Report:\\n\", classification_report(y_test, y_pred))\n"
      ],
      "metadata": {
        "id": "xRQ7dcxskhbu"
      },
      "execution_count": null,
      "outputs": []
    }
  ]
}